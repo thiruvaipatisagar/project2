{
  "nbformat": 4,
  "nbformat_minor": 0,
  "metadata": {
    "colab": {
      "provenance": []
    },
    "kernelspec": {
      "name": "python3",
      "display_name": "Python 3"
    },
    "language_info": {
      "name": "python"
    }
  },
  "cells": [
    {
      "cell_type": "code",
      "execution_count": 3,
      "metadata": {
        "colab": {
          "base_uri": "https://localhost:8080/"
        },
        "id": "e67Ypz8HJc4O",
        "outputId": "ac9641a7-f4c0-4db7-d83c-032ebc06dbd7"
      },
      "outputs": [
        {
          "output_type": "stream",
          "name": "stdout",
          "text": [
            "\n",
            "Reminder Application Menu:\n",
            "1. Add Reminder\n",
            "2. View Reminders\n",
            "3. Exit\n",
            "Enter your choice (1/2/3): 2\n",
            "Current Reminders:\n",
            "Meeting with John: 2023-11-20 10:30:00\n",
            "Submit report: 2023-11-21 15:00:00\n",
            "Birthday party: 2023-12-05 18:00:00\n",
            "\n",
            "Reminder Application Menu:\n",
            "1. Add Reminder\n",
            "2. View Reminders\n",
            "3. Exit\n",
            "Enter your choice (1/2/3): 3\n",
            "Exiting reminder application. Goodbye!\n"
          ]
        }
      ],
      "source": [
        "import datetime\n",
        "# Dictionary to store reminders with some default reminders\n",
        "reminders = {\n",
        "    \"Meeting with John\": datetime.datetime(2023, 11, 20, 10, 30),\n",
        "    \"Submit report\": datetime.datetime(2023, 11, 21, 15, 0),\n",
        "    \"Birthday party\": datetime.datetime(2023, 12, 5, 18, 0),\n",
        "}\n",
        "\n",
        "def add_reminder():\n",
        "    \"\"\"\n",
        "    Function to add a reminder.\n",
        "    \"\"\"\n",
        "    task = input(\"Enter the task: \")\n",
        "    date_str = input(\"Enter the date (YYYY-MM-DD): \")\n",
        "    time_str = input(\"Enter the time (HH:MM): \")\n",
        "\n",
        "    # Convert input strings to datetime objects\n",
        "    date_time_str = f\"{date_str} {time_str}\"\n",
        "    reminder_time = datetime.datetime.strptime(date_time_str, \"%Y-%m-%d %H:%M\")\n",
        "\n",
        "    # Add reminder to the dictionary\n",
        "    reminders[task] = reminder_time\n",
        "    print(\"Reminder added successfully!\")\n",
        "\n",
        "def view_reminders():\n",
        "    \"\"\"\n",
        "    Function to view all reminders.\n",
        "    \"\"\"\n",
        "    if not reminders:\n",
        "        print(\"No reminders set.\")\n",
        "    else:\n",
        "        print(\"Current Reminders:\")\n",
        "        for task, time in reminders.items():\n",
        "            print(f\"{task}: {time}\")\n",
        "\n",
        "def main():\n",
        "    \"\"\"\n",
        "    Main function to run the reminder application.\n",
        "    \"\"\"\n",
        "    while True:\n",
        "        print(\"\\nReminder Application Menu:\")\n",
        "        print(\"1. Add Reminder\")\n",
        "        print(\"2. View Reminders\")\n",
        "        print(\"3. Exit\")\n",
        "\n",
        "        choice = input(\"Enter your choice (1/2/3): \")\n",
        "\n",
        "        if choice == \"1\":\n",
        "            add_reminder()\n",
        "        elif choice == \"2\":\n",
        "            view_reminders()\n",
        "        elif choice == \"3\":\n",
        "            print(\"Exiting reminder application. Goodbye!\")\n",
        "            break\n",
        "        else:\n",
        "            print(\"Invalid choice. Please enter 1, 2, or 3.\")\n",
        "if __name__ == \"__main__\":\n",
        "    main()"
      ]
    }
  ]
}